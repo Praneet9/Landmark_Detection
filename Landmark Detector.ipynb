{
 "cells": [
  {
   "cell_type": "code",
   "execution_count": null,
   "metadata": {
    "collapsed": true
   },
   "outputs": [],
   "source": [
    "import cv2\n",
    "import dlib\n",
    "import numpy as np"
   ]
  },
  {
   "cell_type": "code",
   "execution_count": null,
   "metadata": {
    "collapsed": true
   },
   "outputs": [],
   "source": [
    "PREDICTOR_PATH = \"shape_predictor_68_face_landmarks.dat\"\n",
    "predictor = dlib.shape_predictor(PREDICTOR_PATH)\n",
    "detector = dlib.get_frontal_face_detector()"
   ]
  },
  {
   "cell_type": "code",
   "execution_count": null,
   "metadata": {
    "collapsed": true
   },
   "outputs": [],
   "source": [
    "# define a dictionary that maps the indexes of the facial\n",
    "# landmarks to specific face regions\n",
    "LM = dict({\n",
    "\t\"mouth_outer\": (48, 59),\n",
    "\t\"mouth_inner\": (60, 67),\n",
    "\t\"mouth\": (48, 68),\n",
    "\t\"right_eyebrow\": (17, 22),\n",
    "\t\"left_eyebrow\": (22, 27),\n",
    "\t\"right_eye\": (36, 42),\n",
    "\t\"left_eye\": (42, 48),\n",
    "\t\"nose\": (27, 35),\n",
    "\t\"jaw\": (0, 17)\n",
    "})\n"
   ]
  },
  {
   "cell_type": "code",
   "execution_count": null,
   "metadata": {
    "collapsed": false
   },
   "outputs": [],
   "source": [
    "def get_landmarks(im):\n",
    "    rects = detector(im, 1)\n",
    "    '''\n",
    "    if len(rects) > 1:\n",
    "        raise \"Error\"\n",
    "    if len(rects) == 0:\n",
    "        raise \"Error\"\n",
    "    '''    \n",
    "    if len(rects) > 1:\n",
    "        print(\"Error1\")\n",
    "    if len(rects) == 0:\n",
    "        print(\"Error0\")\n",
    "    print(rects[0])\n",
    "    return np.matrix([[p.x, p.y] for p in predictor(im, rects[0]).parts()])\n",
    "\n",
    "def annotate_landmarks(im, landmarks):\n",
    "    im = im.copy()\n",
    "    \n",
    "    for idx, point in enumerate(landmarks):\n",
    "        pos = (point[0, 0], point[0, 1])\n",
    "        cv2.putText(im, str(idx), pos, fontFace = cv2.FONT_HERSHEY_SCRIPT_SIMPLEX,\n",
    "                    fontScale = 0.4, color = (0, 0, 255))\n",
    "        cv2.circle(im, pos, 3, color = (0, 255, 255))\n",
    "        \n",
    "    return im\n",
    "\n",
    "def top_lip(landmarks):\n",
    "    top_lip_pts = []\n",
    "    \n",
    "    for i in range(50, 53):\n",
    "        top_lip_pts.append(landmarks[i])\n",
    "    \n",
    "    for i in range(61, 64):\n",
    "        top_lip_pts.append(landmarks[i])\n",
    "    \n",
    "    top_lip_all_pts = np.squeeze(np.asarray(top_lip_pts))\n",
    "    #print(top_lip_all_pts[0][0])\n",
    "    top_lip_mean = np.mean(top_lip_pts, axis = 0)\n",
    "    return int(top_lip_mean[:,1])\n",
    "\n",
    "def bottom_lip(landmarks):\n",
    "    bottom_lip_pts = []\n",
    "    \n",
    "    for i in range(65, 68):\n",
    "        bottom_lip_pts.append(landmarks[i])\n",
    "    for i in range(56, 59):\n",
    "        bottom_lip_pts.append(landmarks[i])\n",
    "    \n",
    "    bottom_lip_all_pts = np.squeeze(np.asarray(bottom_lip_pts))\n",
    "    bottom_lip_mean = np.mean(bottom_lip_pts, axis = 0)\n",
    "    return int(bottom_lip_mean[:,1])\n",
    " \n",
    "def mouth_open(image):\n",
    "    landmarks = get_landmarks(image)\n",
    "    \n",
    "    #if landmarks == \"Error\":\n",
    "     #   return image, 0\n",
    "    \n",
    "    image_with_landmarks = annotate_landmarks(image, landmarks)\n",
    "    top_lip_center = top_lip(landmarks)\n",
    "    bottom_lip_center = bottom_lip(landmarks)\n",
    "    lip_distance = abs(top_lip_center - bottom_lip_center)\n",
    "    return image_with_landmarks, lip_distance\n",
    "\n",
    "cap = cv2.VideoCapture(0)\n",
    "yawns = 0\n",
    "yawn_status = False\n",
    "\n",
    "while True:\n",
    "    ret, frame = cap.read()\n",
    "    frame = cv2.flip(frame, flipCode=1)\n",
    "    gray = cv2.cvtColor(frame, cv2.COLOR_BGR2GRAY)\n",
    "    image_landmarks, lip_distance = mouth_open(gray)\n",
    "    \n",
    "    prev_yawn_status = yawn_status\n",
    "    \n",
    "    if lip_distance > 40:\n",
    "        yawn_status = True\n",
    "        \n",
    "        cv2.putText(frame, \"Subject is Yawning\", (50, 450), cv2.FONT_HERSHEY_COMPLEX, 1, (0,0, 255), 2)\n",
    "        \n",
    "        output_text = \"Yawn Count: \" + str(yawns + 1)\n",
    "        \n",
    "        cv2.putText(frame, output_text, (50, 50), cv2.FONT_HERSHEY_COMPLEX, 1, (0, 255, 127), 2)\n",
    "        \n",
    "    else:\n",
    "        yawn_status = False\n",
    "        \n",
    "    if prev_yawn_status == True and yawn_status == False:\n",
    "        yawns += 1\n",
    "        \n",
    "    cv2.imshow('Live Landmarks', image_landmarks)\n",
    "    cv2.imshow('Yawn Detection', frame)\n",
    "    \n",
    "    if cv2.waitKey(1) == 13:\n",
    "        break\n",
    "        \n",
    "cap.release()\n",
    "cv2.destroyAllWindows()"
   ]
  },
  {
   "cell_type": "code",
   "execution_count": null,
   "metadata": {
    "collapsed": true
   },
   "outputs": [],
   "source": []
  },
  {
   "cell_type": "code",
   "execution_count": null,
   "metadata": {
    "collapsed": true
   },
   "outputs": [],
   "source": []
  }
 ],
 "metadata": {
  "anaconda-cloud": {},
  "kernelspec": {
   "display_name": "Python [conda root]",
   "language": "python",
   "name": "conda-root-py"
  },
  "language_info": {
   "codemirror_mode": {
    "name": "ipython",
    "version": 3
   },
   "file_extension": ".py",
   "mimetype": "text/x-python",
   "name": "python",
   "nbconvert_exporter": "python",
   "pygments_lexer": "ipython3",
   "version": "3.5.2"
  }
 },
 "nbformat": 4,
 "nbformat_minor": 1
}
